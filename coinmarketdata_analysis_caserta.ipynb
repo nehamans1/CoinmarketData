{
 "cells": [
  {
   "cell_type": "markdown",
   "metadata": {},
   "source": [
    "# Data Ingestion done outside of Datalab. The CSV data file is uploaded to a Google Cloud Storage bucket and made public. It is available at coinmarket_data_api/cryptocurrencydata.csv\n",
    "\n",
    "__Note: The coinmarket_data_api storage bucket is not public. The cryptocurrencydata.csv file in that bucket is made public.__"
   ]
  },
  {
   "cell_type": "markdown",
   "metadata": {},
   "source": [
    "# How many coins have a USD price greater than $8,000?"
   ]
  },
  {
   "cell_type": "code",
   "execution_count": 2,
   "metadata": {},
   "outputs": [
    {
     "data": {
      "text/html": [
       "\n",
       "    <div class=\"bqtv\" id=\"2_153172108645\"><table><tr><th>Num_Coins_Price_More_Than_8000_USD</th></tr><tr><td>3</td></tr></table></div>\n",
       "    <br />(rows: 1, time: 2.9s,    39KB processed, job: job_OzCM98WZn0KbmpjAhOZcrzE5cgTw)<br />\n",
       "    <script src=\"/static/components/requirejs/require.js\"></script>\n",
       "    <script>\n",
       "      require.config({\n",
       "        paths: {\n",
       "          base: '/static/base',\n",
       "          d3: '//cdnjs.cloudflare.com/ajax/libs/d3/3.4.13/d3',\n",
       "          plotly: 'https://cdn.plot.ly/plotly-1.5.1.min.js?noext',\n",
       "          jquery: '//ajax.googleapis.com/ajax/libs/jquery/2.0.0/jquery.min'\n",
       "        },\n",
       "        map: {\n",
       "          '*': {\n",
       "            datalab: 'nbextensions/gcpdatalab'\n",
       "          }\n",
       "        },\n",
       "        shim: {\n",
       "          plotly: {\n",
       "            deps: ['d3', 'jquery'],\n",
       "            exports: 'plotly'\n",
       "          }\n",
       "        }\n",
       "      });\n",
       "\n",
       "      require(['datalab/charting', 'datalab/element!2_153172108645', 'base/js/events',\n",
       "          'datalab/style!/nbextensions/gcpdatalab/charting.css'],\n",
       "        function(charts, dom, events) {\n",
       "          charts.render('gcharts', dom, events, 'table', [], {\"rows\": [{\"c\": [{\"v\": 3}]}], \"cols\": [{\"id\": \"Num_Coins_Price_More_Than_8000_USD\", \"label\": \"Num_Coins_Price_More_Than_8000_USD\", \"type\": \"number\"}]},\n",
       "            {\n",
       "              pageSize: 25,\n",
       "              cssClassNames:  {\n",
       "                tableRow: 'gchart-table-row',\n",
       "                headerRow: 'gchart-table-headerrow',\n",
       "                oddTableRow: 'gchart-table-oddrow',\n",
       "                selectedTableRow: 'gchart-table-selectedrow',\n",
       "                hoverTableRow: 'gchart-table-hoverrow',\n",
       "                tableCell: 'gchart-table-cell',\n",
       "                headerCell: 'gchart-table-headercell',\n",
       "                rowNumberCell: 'gchart-table-rownumcell'\n",
       "              }\n",
       "            },\n",
       "            {source_index: 1, fields: 'Num_Coins_Price_More_Than_8000_USD'},\n",
       "            0,\n",
       "            1);\n",
       "        }\n",
       "      );\n",
       "    </script>\n",
       "  "
      ],
      "text/plain": [
       "QueryResultsTable job_OzCM98WZn0KbmpjAhOZcrzE5cgTw"
      ]
     },
     "execution_count": 2,
     "metadata": {},
     "output_type": "execute_result"
    }
   ],
   "source": [
    "%%bq query\n",
    "SELECT count(id) as Num_Coins_Price_More_Than_8000_USD\n",
    "FROM `wide-planet-210020.coinmarket_api_data.ticker_data_all_currencies`\n",
    "WHERE quotes_USD_price > 8000"
   ]
  },
  {
   "cell_type": "markdown",
   "metadata": {},
   "source": []
  },
  {
   "cell_type": "markdown",
   "metadata": {},
   "source": [
    "# What is the total market cap of the top 100 cryptocurrencies (in USD)?"
   ]
  },
  {
   "cell_type": "code",
   "execution_count": 10,
   "metadata": {},
   "outputs": [
    {
     "data": {
      "text/html": [
       "\n",
       "    <div class=\"bqtv\" id=\"5_153172258507\"><table><tr><th>Total_Market_Cap_Top_100</th></tr><tr><td>245383531435</td></tr></table></div>\n",
       "    <br />(rows: 1, time: 0.9s,    48KB processed, job: job_0n4U0FAPTfUqlhhj1vXhPx_x4Al_)<br />\n",
       "    <script src=\"/static/components/requirejs/require.js\"></script>\n",
       "    <script>\n",
       "      require.config({\n",
       "        paths: {\n",
       "          base: '/static/base',\n",
       "          d3: '//cdnjs.cloudflare.com/ajax/libs/d3/3.4.13/d3',\n",
       "          plotly: 'https://cdn.plot.ly/plotly-1.5.1.min.js?noext',\n",
       "          jquery: '//ajax.googleapis.com/ajax/libs/jquery/2.0.0/jquery.min'\n",
       "        },\n",
       "        map: {\n",
       "          '*': {\n",
       "            datalab: 'nbextensions/gcpdatalab'\n",
       "          }\n",
       "        },\n",
       "        shim: {\n",
       "          plotly: {\n",
       "            deps: ['d3', 'jquery'],\n",
       "            exports: 'plotly'\n",
       "          }\n",
       "        }\n",
       "      });\n",
       "\n",
       "      require(['datalab/charting', 'datalab/element!5_153172258507', 'base/js/events',\n",
       "          'datalab/style!/nbextensions/gcpdatalab/charting.css'],\n",
       "        function(charts, dom, events) {\n",
       "          charts.render('gcharts', dom, events, 'table', [], {\"rows\": [{\"c\": [{\"v\": \"245383531435\"}]}], \"cols\": [{\"id\": \"Total_Market_Cap_Top_100\", \"label\": \"Total_Market_Cap_Top_100\", \"type\": \"string\"}]},\n",
       "            {\n",
       "              pageSize: 25,\n",
       "              cssClassNames:  {\n",
       "                tableRow: 'gchart-table-row',\n",
       "                headerRow: 'gchart-table-headerrow',\n",
       "                oddTableRow: 'gchart-table-oddrow',\n",
       "                selectedTableRow: 'gchart-table-selectedrow',\n",
       "                hoverTableRow: 'gchart-table-hoverrow',\n",
       "                tableCell: 'gchart-table-cell',\n",
       "                headerCell: 'gchart-table-headercell',\n",
       "                rowNumberCell: 'gchart-table-rownumcell'\n",
       "              }\n",
       "            },\n",
       "            {source_index: 4, fields: 'Total_Market_Cap_Top_100'},\n",
       "            0,\n",
       "            1);\n",
       "        }\n",
       "      );\n",
       "    </script>\n",
       "  "
      ],
      "text/plain": [
       "QueryResultsTable job_0n4U0FAPTfUqlhhj1vXhPx_x4Al_"
      ]
     },
     "execution_count": 10,
     "metadata": {},
     "output_type": "execute_result"
    }
   ],
   "source": [
    "%%bq query\n",
    "SELECT sum(quotes_USD_market_cap) as Total_Market_Cap_Top_100\n",
    "FROM (SELECT quotes_USD_market_cap FROM `wide-planet-210020.coinmarket_api_data.ticker_data_all_currencies`\n",
    "order by curr_rank asc\n",
    "limit 100)"
   ]
  },
  {
   "cell_type": "markdown",
   "metadata": {},
   "source": [
    "# Which coins have an available supply less than $5M?\n",
    "\n",
    "__Circulating Supply is considered the available supply for public purchase however the unit for this is number of coins. We need available suppy as dollar amount. So circulating supply is multiplied by quotes_USD_price to get the available supply as dollar amount.__"
   ]
  },
  {
   "cell_type": "code",
   "execution_count": 12,
   "metadata": {},
   "outputs": [
    {
     "data": {
      "text/html": [
       "\n",
       "    <div class=\"bqtv\" id=\"7_153172294600\"><table><tr><th>name</th><th>symbol</th><th>available_supply</th></tr><tr><td>POLY AI</td><td>AI</td><td>145.36218970000002</td></tr><tr><td>HarmonyCoin</td><td>HMC</td><td>2488.9986520999996</td></tr><tr><td>Artex Coin</td><td>ATX</td><td>3597.5690855000003</td></tr><tr><td>LevoPlus</td><td>LVPS</td><td>2609.05853336</td></tr><tr><td>Magnum</td><td>MGM</td><td>3355.253884302</td></tr><tr><td>CrevaCoin</td><td>CREVA</td><td>4641.567381</td></tr><tr><td>Tristar Coin</td><td>TSTR</td><td>964.1770533189999</td></tr><tr><td>Project-X</td><td>NANOX</td><td>0.0</td></tr><tr><td>WomenCoin</td><td>WOMEN</td><td>2830.1056</td></tr><tr><td>Vault Coin</td><td>VLTC</td><td>3883.45432524</td></tr><tr><td>Ulatech</td><td>ULA</td><td>2422.6357493</td></tr></table></div>\n",
       "    <br />(rows: 11, time: 1.0s,    61KB processed, job: job__Gj33CUw4tA0cnSGzBweR0HY8RXN)<br />\n",
       "    <script src=\"/static/components/requirejs/require.js\"></script>\n",
       "    <script>\n",
       "      require.config({\n",
       "        paths: {\n",
       "          base: '/static/base',\n",
       "          d3: '//cdnjs.cloudflare.com/ajax/libs/d3/3.4.13/d3',\n",
       "          plotly: 'https://cdn.plot.ly/plotly-1.5.1.min.js?noext',\n",
       "          jquery: '//ajax.googleapis.com/ajax/libs/jquery/2.0.0/jquery.min'\n",
       "        },\n",
       "        map: {\n",
       "          '*': {\n",
       "            datalab: 'nbextensions/gcpdatalab'\n",
       "          }\n",
       "        },\n",
       "        shim: {\n",
       "          plotly: {\n",
       "            deps: ['d3', 'jquery'],\n",
       "            exports: 'plotly'\n",
       "          }\n",
       "        }\n",
       "      });\n",
       "\n",
       "      require(['datalab/charting', 'datalab/element!7_153172294600', 'base/js/events',\n",
       "          'datalab/style!/nbextensions/gcpdatalab/charting.css'],\n",
       "        function(charts, dom, events) {\n",
       "          charts.render('gcharts', dom, events, 'table', [], {\"rows\": [{\"c\": [{\"v\": \"POLY AI\"}, {\"v\": \"AI\"}, {\"v\": 145.36218970000002}]}, {\"c\": [{\"v\": \"HarmonyCoin\"}, {\"v\": \"HMC\"}, {\"v\": 2488.9986520999996}]}, {\"c\": [{\"v\": \"Artex Coin\"}, {\"v\": \"ATX\"}, {\"v\": 3597.5690855000003}]}, {\"c\": [{\"v\": \"LevoPlus\"}, {\"v\": \"LVPS\"}, {\"v\": 2609.05853336}]}, {\"c\": [{\"v\": \"Magnum\"}, {\"v\": \"MGM\"}, {\"v\": 3355.253884302}]}, {\"c\": [{\"v\": \"CrevaCoin\"}, {\"v\": \"CREVA\"}, {\"v\": 4641.567381}]}, {\"c\": [{\"v\": \"Tristar Coin\"}, {\"v\": \"TSTR\"}, {\"v\": 964.1770533189999}]}, {\"c\": [{\"v\": \"Project-X\"}, {\"v\": \"NANOX\"}, {\"v\": 0.0}]}, {\"c\": [{\"v\": \"WomenCoin\"}, {\"v\": \"WOMEN\"}, {\"v\": 2830.1056}]}, {\"c\": [{\"v\": \"Vault Coin\"}, {\"v\": \"VLTC\"}, {\"v\": 3883.45432524}]}, {\"c\": [{\"v\": \"Ulatech\"}, {\"v\": \"ULA\"}, {\"v\": 2422.6357493}]}], \"cols\": [{\"id\": \"name\", \"label\": \"name\", \"type\": \"string\"}, {\"id\": \"symbol\", \"label\": \"symbol\", \"type\": \"string\"}, {\"id\": \"available_supply\", \"label\": \"available_supply\", \"type\": \"number\"}]},\n",
       "            {\n",
       "              pageSize: 25,\n",
       "              cssClassNames:  {\n",
       "                tableRow: 'gchart-table-row',\n",
       "                headerRow: 'gchart-table-headerrow',\n",
       "                oddTableRow: 'gchart-table-oddrow',\n",
       "                selectedTableRow: 'gchart-table-selectedrow',\n",
       "                hoverTableRow: 'gchart-table-hoverrow',\n",
       "                tableCell: 'gchart-table-cell',\n",
       "                headerCell: 'gchart-table-headercell',\n",
       "                rowNumberCell: 'gchart-table-rownumcell'\n",
       "              }\n",
       "            },\n",
       "            {source_index: 6, fields: 'name,symbol,available_supply'},\n",
       "            0,\n",
       "            11);\n",
       "        }\n",
       "      );\n",
       "    </script>\n",
       "  "
      ],
      "text/plain": [
       "QueryResultsTable job__Gj33CUw4tA0cnSGzBweR0HY8RXN"
      ]
     },
     "execution_count": 12,
     "metadata": {},
     "output_type": "execute_result"
    }
   ],
   "source": [
    "%%bq query\n",
    "SELECT name, symbol, (quotes_USD_price * circulating_supply) as available_supply\n",
    "FROM `wide-planet-210020.coinmarket_api_data.ticker_data_all_currencies`\n",
    "WHERE (quotes_USD_price * circulating_supply) < 5000"
   ]
  },
  {
   "cell_type": "markdown",
   "metadata": {},
   "source": [
    "# Which 5 coins have seen the greatest percentage growth in the last week?"
   ]
  },
  {
   "cell_type": "code",
   "execution_count": 13,
   "metadata": {},
   "outputs": [
    {
     "data": {
      "text/html": [
       "\n",
       "    <div class=\"bqtv\" id=\"8_153172326872\"><table><tr><th>name</th><th>symbol</th><th>pct_growth_last_week</th></tr><tr><td>Super Bitcoin</td><td>SBTC</td><td>248.84</td></tr><tr><td>Steneum Coin</td><td>STN</td><td>125.06</td></tr><tr><td>Sumokoin</td><td>SUMO</td><td>122.78</td></tr><tr><td>ACChain</td><td>ACC</td><td>114.0</td></tr><tr><td>Dashcoin</td><td>DSH</td><td>107.86</td></tr></table></div>\n",
       "    <br />(rows: 5, time: 0.9s,    39KB processed, job: job_9ZDaBwHJgIVpP1XDuQQg5pkamBnj)<br />\n",
       "    <script src=\"/static/components/requirejs/require.js\"></script>\n",
       "    <script>\n",
       "      require.config({\n",
       "        paths: {\n",
       "          base: '/static/base',\n",
       "          d3: '//cdnjs.cloudflare.com/ajax/libs/d3/3.4.13/d3',\n",
       "          plotly: 'https://cdn.plot.ly/plotly-1.5.1.min.js?noext',\n",
       "          jquery: '//ajax.googleapis.com/ajax/libs/jquery/2.0.0/jquery.min'\n",
       "        },\n",
       "        map: {\n",
       "          '*': {\n",
       "            datalab: 'nbextensions/gcpdatalab'\n",
       "          }\n",
       "        },\n",
       "        shim: {\n",
       "          plotly: {\n",
       "            deps: ['d3', 'jquery'],\n",
       "            exports: 'plotly'\n",
       "          }\n",
       "        }\n",
       "      });\n",
       "\n",
       "      require(['datalab/charting', 'datalab/element!8_153172326872', 'base/js/events',\n",
       "          'datalab/style!/nbextensions/gcpdatalab/charting.css'],\n",
       "        function(charts, dom, events) {\n",
       "          charts.render('gcharts', dom, events, 'table', [], {\"rows\": [{\"c\": [{\"v\": \"Super Bitcoin\"}, {\"v\": \"SBTC\"}, {\"v\": 248.84}]}, {\"c\": [{\"v\": \"Steneum Coin\"}, {\"v\": \"STN\"}, {\"v\": 125.06}]}, {\"c\": [{\"v\": \"Sumokoin\"}, {\"v\": \"SUMO\"}, {\"v\": 122.78}]}, {\"c\": [{\"v\": \"ACChain\"}, {\"v\": \"ACC\"}, {\"v\": 114.0}]}, {\"c\": [{\"v\": \"Dashcoin\"}, {\"v\": \"DSH\"}, {\"v\": 107.86}]}], \"cols\": [{\"id\": \"name\", \"label\": \"name\", \"type\": \"string\"}, {\"id\": \"symbol\", \"label\": \"symbol\", \"type\": \"string\"}, {\"id\": \"pct_growth_last_week\", \"label\": \"pct_growth_last_week\", \"type\": \"number\"}]},\n",
       "            {\n",
       "              pageSize: 25,\n",
       "              cssClassNames:  {\n",
       "                tableRow: 'gchart-table-row',\n",
       "                headerRow: 'gchart-table-headerrow',\n",
       "                oddTableRow: 'gchart-table-oddrow',\n",
       "                selectedTableRow: 'gchart-table-selectedrow',\n",
       "                hoverTableRow: 'gchart-table-hoverrow',\n",
       "                tableCell: 'gchart-table-cell',\n",
       "                headerCell: 'gchart-table-headercell',\n",
       "                rowNumberCell: 'gchart-table-rownumcell'\n",
       "              }\n",
       "            },\n",
       "            {source_index: 7, fields: 'name,symbol,pct_growth_last_week'},\n",
       "            0,\n",
       "            5);\n",
       "        }\n",
       "      );\n",
       "    </script>\n",
       "  "
      ],
      "text/plain": [
       "QueryResultsTable job_9ZDaBwHJgIVpP1XDuQQg5pkamBnj"
      ]
     },
     "execution_count": 13,
     "metadata": {},
     "output_type": "execute_result"
    }
   ],
   "source": [
    "%%bq query\n",
    "SELECT name, symbol, quotes_USD_percent_change_7d as pct_growth_last_week\n",
    "FROM `wide-planet-210020.coinmarket_api_data.ticker_data_all_currencies`\n",
    "order by quotes_USD_percent_change_7d desc\n",
    "limit 5"
   ]
  },
  {
   "cell_type": "markdown",
   "metadata": {},
   "source": [
    "# How many ticker symbols contain the letter \"X\" ?"
   ]
  },
  {
   "cell_type": "code",
   "execution_count": 15,
   "metadata": {},
   "outputs": [
    {
     "data": {
      "text/html": [
       "\n",
       "    <div class=\"bqtv\" id=\"10_153172404603\"><table><tr><th>count_symbols_contain_X</th></tr><tr><td>202</td></tr></table></div>\n",
       "    <br />(rows: 1, time: 0.8s,     8KB processed, job: job_oLygYAHzgBPPau8Z-ex-nhuSS45Q)<br />\n",
       "    <script src=\"/static/components/requirejs/require.js\"></script>\n",
       "    <script>\n",
       "      require.config({\n",
       "        paths: {\n",
       "          base: '/static/base',\n",
       "          d3: '//cdnjs.cloudflare.com/ajax/libs/d3/3.4.13/d3',\n",
       "          plotly: 'https://cdn.plot.ly/plotly-1.5.1.min.js?noext',\n",
       "          jquery: '//ajax.googleapis.com/ajax/libs/jquery/2.0.0/jquery.min'\n",
       "        },\n",
       "        map: {\n",
       "          '*': {\n",
       "            datalab: 'nbextensions/gcpdatalab'\n",
       "          }\n",
       "        },\n",
       "        shim: {\n",
       "          plotly: {\n",
       "            deps: ['d3', 'jquery'],\n",
       "            exports: 'plotly'\n",
       "          }\n",
       "        }\n",
       "      });\n",
       "\n",
       "      require(['datalab/charting', 'datalab/element!10_153172404603', 'base/js/events',\n",
       "          'datalab/style!/nbextensions/gcpdatalab/charting.css'],\n",
       "        function(charts, dom, events) {\n",
       "          charts.render('gcharts', dom, events, 'table', [], {\"rows\": [{\"c\": [{\"v\": 202}]}], \"cols\": [{\"id\": \"count_symbols_contain_X\", \"label\": \"count_symbols_contain_X\", \"type\": \"number\"}]},\n",
       "            {\n",
       "              pageSize: 25,\n",
       "              cssClassNames:  {\n",
       "                tableRow: 'gchart-table-row',\n",
       "                headerRow: 'gchart-table-headerrow',\n",
       "                oddTableRow: 'gchart-table-oddrow',\n",
       "                selectedTableRow: 'gchart-table-selectedrow',\n",
       "                hoverTableRow: 'gchart-table-hoverrow',\n",
       "                tableCell: 'gchart-table-cell',\n",
       "                headerCell: 'gchart-table-headercell',\n",
       "                rowNumberCell: 'gchart-table-rownumcell'\n",
       "              }\n",
       "            },\n",
       "            {source_index: 9, fields: 'count_symbols_contain_X'},\n",
       "            0,\n",
       "            1);\n",
       "        }\n",
       "      );\n",
       "    </script>\n",
       "  "
      ],
      "text/plain": [
       "QueryResultsTable job_oLygYAHzgBPPau8Z-ex-nhuSS45Q"
      ]
     },
     "execution_count": 15,
     "metadata": {},
     "output_type": "execute_result"
    }
   ],
   "source": [
    "%%bq query\n",
    "SELECT count(symbol) as count_symbols_contain_X\n",
    "FROM `wide-planet-210020.coinmarket_api_data.ticker_data_all_currencies`\n",
    "where symbol like '%X%'"
   ]
  },
  {
   "cell_type": "code",
   "execution_count": null,
   "metadata": {
    "collapsed": true
   },
   "outputs": [],
   "source": []
  }
 ],
 "metadata": {
  "anaconda-cloud": {},
  "kernelspec": {
   "display_name": "Python [default]",
   "language": "python",
   "name": "python3"
  },
  "language_info": {
   "codemirror_mode": {
    "name": "ipython",
    "version": 3
   },
   "file_extension": ".py",
   "mimetype": "text/x-python",
   "name": "python",
   "nbconvert_exporter": "python",
   "pygments_lexer": "ipython3",
   "version": "3.5.2"
  }
 },
 "nbformat": 4,
 "nbformat_minor": 2
}
